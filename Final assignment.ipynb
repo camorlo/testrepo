{
 "cells": [
  {
   "cell_type": "markdown",
   "id": "e94a9d84-60b8-4645-9da5-d07e8d670ead",
   "metadata": {},
   "source": [
    "This a simple arithmetic expression to mutiply then add integers\n"
   ]
  },
  {
   "cell_type": "code",
   "execution_count": 1,
   "id": "7301ee0c-45e0-4b95-986c-914c7f37bac2",
   "metadata": {
    "tags": []
   },
   "outputs": [
    {
     "data": {
      "text/plain": [
       "17"
      ]
     },
     "execution_count": 1,
     "metadata": {},
     "output_type": "execute_result"
    }
   ],
   "source": [
    "(3*4)+5"
   ]
  },
  {
   "cell_type": "markdown",
   "id": "1f99150f-6c38-46e0-abbd-a27f2339ccb7",
   "metadata": {},
   "source": [
    "This will convert 200 minutes to hours by diving by 60"
   ]
  },
  {
   "cell_type": "code",
   "execution_count": 3,
   "id": "9a30d286-dd7a-485f-86a1-100f08ba4cb5",
   "metadata": {
    "tags": []
   },
   "outputs": [
    {
     "data": {
      "text/plain": [
       "3.3333333333333335"
      ]
     },
     "execution_count": 3,
     "metadata": {},
     "output_type": "execute_result"
    }
   ],
   "source": [
    "200/60"
   ]
  },
  {
   "cell_type": "markdown",
   "id": "f117458e-592e-4484-9e06-1f7a2a9fb1a1",
   "metadata": {},
   "source": [
    "In this notebook, Data Science Tools and Ecosystem are summarized.\n"
   ]
  },
  {
   "cell_type": "markdown",
   "id": "356961f0-33e3-42de-b6cc-c1e5b37dee5b",
   "metadata": {},
   "source": [
    "Objectives:"
   ]
  },
  {
   "cell_type": "markdown",
   "id": "b5ec5ed5-48f8-4488-832f-05ecb74e4b07",
   "metadata": {
    "tags": []
   },
   "source": [
    "- Python.\n",
    "- R. \n",
    "- SQL. "
   ]
  },
  {
   "cell_type": "markdown",
   "id": "f25f1150-590e-4f65-9cdf-a0575588cbb3",
   "metadata": {},
   "source": [
    "## Author"
   ]
  },
  {
   "cell_type": "markdown",
   "id": "ea46f606-48cc-4afc-ba29-f06919ffa046",
   "metadata": {
    "tags": []
   },
   "source": [
    "Carlos Moran"
   ]
  },
  {
   "cell_type": "code",
   "execution_count": null,
   "id": "815113f3-ff2c-4115-87ab-5abbe0bf5e15",
   "metadata": {},
   "outputs": [],
   "source": []
  }
 ],
 "metadata": {
  "kernelspec": {
   "display_name": "Python",
   "language": "python",
   "name": "conda-env-python-py"
  },
  "language_info": {
   "codemirror_mode": {
    "name": "ipython",
    "version": 3
   },
   "file_extension": ".py",
   "mimetype": "text/x-python",
   "name": "python",
   "nbconvert_exporter": "python",
   "pygments_lexer": "ipython3",
   "version": "3.7.12"
  }
 },
 "nbformat": 4,
 "nbformat_minor": 5
}
